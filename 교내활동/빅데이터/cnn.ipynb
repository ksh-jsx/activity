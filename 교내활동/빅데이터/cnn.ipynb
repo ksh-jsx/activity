{
  "nbformat": 4,
  "nbformat_minor": 0,
  "metadata": {
    "colab": {
      "name": "cnn.ipynb",
      "provenance": [],
      "collapsed_sections": []
    },
    "kernelspec": {
      "name": "python3",
      "display_name": "Python 3"
    }
  },
  "cells": [
    {
      "cell_type": "code",
      "metadata": {
        "id": "c28DNHQB_ABG",
        "colab_type": "code",
        "outputId": "f0cf40c3-7006-466a-b235-c0861f5501f0",
        "colab": {
          "base_uri": "https://localhost:8080/",
          "height": 35
        }
      },
      "source": [
        "import os\n",
        "import numpy as np\n",
        "import tensorflow as tf\n",
        "import matplotlib.pyplot as plt\n",
        "import scipy.misc \n",
        "import scipy.io\n",
        "%matplotlib inline  \n",
        "print (\"Packages loaded.\")"
      ],
      "execution_count": 0,
      "outputs": [
        {
          "output_type": "stream",
          "text": [
            "Packages loaded.\n"
          ],
          "name": "stdout"
        }
      ]
    },
    {
      "cell_type": "code",
      "metadata": {
        "id": "9qmpg9TV_Btd",
        "colab_type": "code",
        "outputId": "c716a706-209c-4fae-bced-6e540a576129",
        "colab": {
          "base_uri": "https://localhost:8080/",
          "height": 35
        }
      },
      "source": [
        "from google.colab import drive\n",
        "drive.mount('/content/gdrive')"
      ],
      "execution_count": 0,
      "outputs": [
        {
          "output_type": "stream",
          "text": [
            "Drive already mounted at /content/gdrive; to attempt to forcibly remount, call drive.mount(\"/content/gdrive\", force_remount=True).\n"
          ],
          "name": "stdout"
        }
      ]
    },
    {
      "cell_type": "code",
      "metadata": {
        "id": "y18AKTNDBEAA",
        "colab_type": "code",
        "outputId": "8d2c9ff9-f622-4647-b6bf-2c46660b4961",
        "colab": {
          "base_uri": "https://localhost:8080/",
          "height": 35
        }
      },
      "source": [
        "l = np.load('/content/gdrive/My Drive/custom_data.npz')\n",
        "\n",
        "print(l.files)"
      ],
      "execution_count": 0,
      "outputs": [
        {
          "output_type": "stream",
          "text": [
            "['testlabel', 'categories', 'trainimg', 'trainlabel', 'testimg', 'use_gray', 'imgsize']\n"
          ],
          "name": "stdout"
        }
      ]
    },
    {
      "cell_type": "code",
      "metadata": {
        "id": "LZVFzsnR_DoY",
        "colab_type": "code",
        "outputId": "6baeb449-99d2-444c-8efa-2a6a4e28a7d1",
        "colab": {
          "base_uri": "https://localhost:8080/",
          "height": 377
        }
      },
      "source": [
        "# Parse data\n",
        "trainimg = l['trainimg']\n",
        "trainlabel = l['trainlabel']\n",
        "testimg = l['testimg']\n",
        "testlabel = l['testlabel']\n",
        "imgsize = l['imgsize']\n",
        "use_gray = l['use_gray']\n",
        "ntrain = trainimg.shape[0]\n",
        "nclass = trainlabel.shape[1]\n",
        "dim    = trainimg.shape[1]\n",
        "ntest  = testimg.shape[0]\n",
        "print (\"%d train images loaded\" % (ntrain))\n",
        "print (\"%d test images loaded\" % (ntest))\n",
        "print (\"%d dimensional input\" % (dim))\n",
        "print (\"Image size is %s\" % (imgsize))\n",
        "print (\"%d classes\" % (nclass))\n",
        "\n",
        "print(trainimg)\n",
        "print(trainlabel)\n",
        "print(use_gray)"
      ],
      "execution_count": 0,
      "outputs": [
        {
          "output_type": "stream",
          "text": [
            "5868 train images loaded\n",
            "3912 test images loaded\n",
            "4096 dimensional input\n",
            "Image size is [64 64]\n",
            "40 classes\n",
            "[[0.99215686 0.99607843 0.99607843 ... 0.35294118 0.44313725 0.56078431]\n",
            " [0.94117647 0.92156863 0.84705882 ... 0.82352941 0.80784314 0.81568627]\n",
            " [1.         1.         1.         ... 0.96078431 0.96078431 0.96470588]\n",
            " ...\n",
            " [0.61568627 0.63529412 0.65098039 ... 0.78823529 0.77647059 0.79215686]\n",
            " [0.75686275 0.71764706 0.68627451 ... 0.56078431 0.58039216 0.60784314]\n",
            " [0.80392157 0.90196078 0.78823529 ... 0.5254902  0.5254902  0.59215686]]\n",
            "[[0. 0. 0. ... 0. 0. 0.]\n",
            " [0. 0. 0. ... 0. 0. 0.]\n",
            " [0. 0. 0. ... 0. 0. 0.]\n",
            " ...\n",
            " [0. 0. 0. ... 0. 0. 0.]\n",
            " [0. 0. 0. ... 0. 0. 0.]\n",
            " [0. 1. 0. ... 0. 0. 0.]]\n",
            "1\n"
          ],
          "name": "stdout"
        }
      ]
    },
    {
      "cell_type": "code",
      "metadata": {
        "id": "G33pGA-v_FB-",
        "colab_type": "code",
        "colab": {}
      },
      "source": [
        "tf.set_random_seed(0)\n",
        "n_input  = dim\n",
        "n_output = nclass"
      ],
      "execution_count": 0,
      "outputs": []
    },
    {
      "cell_type": "code",
      "metadata": {
        "id": "1RgIqoTa_G3a",
        "colab_type": "code",
        "outputId": "cd77d8d4-cbda-4d9b-b6a3-f870d6a9684f",
        "colab": {
          "base_uri": "https://localhost:8080/",
          "height": 35
        }
      },
      "source": [
        "def conv_basic(x):\n",
        "\n",
        "    x = tf.reshape(x, shape=[-1, imgsize[0], imgsize[1], 1])\n",
        "    w1 = tf.Variable(tf.random_normal([3,3,1,32], stddev=0.01))\n",
        "    conv1 = tf.nn.conv2d(x, w1, [1,1,1,1], padding='SAME')\n",
        "    conv1 = tf.nn.relu(conv1)\n",
        "    conv1 = tf.nn.max_pool(conv1, ksize=[1,2,2,1], strides=[1,2,2,1], padding=\"SAME\")\n",
        "    \n",
        "    w2 = tf.Variable(tf.random_normal([3,3,32,32], stddev=0.01))\n",
        "    conv2 = tf.nn.conv2d(conv1, w2, [1,1,1,1], padding='SAME')\n",
        "    conv2 = tf.nn.relu(conv2)\n",
        "    conv2 = tf.nn.max_pool(conv2, ksize=[1,2,2,1], strides=[1,2,2,1], padding=\"SAME\")\n",
        "\n",
        "    w3 = tf.Variable(tf.random_normal([3,3,32,64], stddev=0.01))\n",
        "    conv3 = tf.nn.conv2d(conv2, w3, [1,1,1,1], padding='SAME')\n",
        "    conv3 = tf.nn.relu(conv3)\n",
        "    conv3 = tf.nn.max_pool(conv3, ksize=[1,2,2,1], strides=[1,2,2,1], padding=\"SAME\")\n",
        "    \n",
        "    w4 = tf.Variable(tf.random_normal([3,3,64,64], stddev=0.01))\n",
        "    conv4 = tf.nn.conv2d(conv3, w4, [1,1,1,1], padding='SAME')\n",
        "    conv4 = tf.nn.relu(conv4)\n",
        "    conv4 = tf.nn.max_pool(conv4, ksize=[1,2,2,1], strides=[1,2,2,1], padding=\"SAME\")\n",
        "\n",
        "    wid = int(conv3.shape[1])\n",
        "    heg = int(conv3.shape[2])\n",
        "    \n",
        "    fc = tf.reshape(conv3, [-1, 64*wid*heg])\n",
        "\n",
        "    fc_w1 = tf.get_variable(\"fc_w1\", shape=[64*wid*heg, 1024], initializer=tf.contrib.layers.xavier_initializer())\n",
        "    fc_b1= tf.Variable(tf.random_normal([1024]))\n",
        "    fc1 = tf.matmul(fc,fc_w1)+fc_b1\n",
        "\n",
        "    fc_w2 = tf.get_variable(\"fc_w2\", shape=[1024, 40], initializer=tf.contrib.layers.xavier_initializer())\n",
        "    fc_b2 = tf.Variable(tf.random_normal([40]))\n",
        "    logits = tf.matmul(fc1,fc_w2)+fc_b2\n",
        "    \n",
        "    return logits\n",
        "\n",
        "print (\"NETWORK READY\")"
      ],
      "execution_count": 0,
      "outputs": [
        {
          "output_type": "stream",
          "text": [
            "NETWORK READY\n"
          ],
          "name": "stdout"
        }
      ]
    },
    {
      "cell_type": "code",
      "metadata": {
        "id": "pudWK88Y_ImJ",
        "colab_type": "code",
        "outputId": "4942df6f-7e3b-4d69-cceb-2c042683d64a",
        "colab": {
          "base_uri": "https://localhost:8080/",
          "height": 323
        }
      },
      "source": [
        "# tf Graph input\n",
        "x = tf.placeholder(tf.float32, [None, n_input])\n",
        "y = tf.placeholder(tf.float32, [None, n_output])\n",
        "\n",
        "# Functions! \n",
        "_pred = conv_basic(x)            \n",
        "cost = tf.reduce_mean(tf.nn.softmax_cross_entropy_with_logits(logits=_pred, labels=y))\n",
        "WEIGHT_DECAY_FACTOR = 0.0001\n",
        "l2_loss = tf.add_n([tf.nn.l2_loss(v) \n",
        "            for v in tf.trainable_variables()])\n",
        "cost = cost + WEIGHT_DECAY_FACTOR*l2_loss\n",
        "optm = tf.train.AdamOptimizer(learning_rate=0.001).minimize(cost)\n",
        "_corr = tf.equal(tf.argmax(_pred,1), tf.argmax(y,1)) # Count corrects\n",
        "accr = tf.reduce_mean(tf.cast(_corr, tf.float32)) # Accuracy\n",
        "\n",
        "print (\"FUNCTIONS READY\")"
      ],
      "execution_count": 0,
      "outputs": [
        {
          "output_type": "stream",
          "text": [
            "WARNING:tensorflow:\n",
            "The TensorFlow contrib module will not be included in TensorFlow 2.0.\n",
            "For more information, please see:\n",
            "  * https://github.com/tensorflow/community/blob/master/rfcs/20180907-contrib-sunset.md\n",
            "  * https://github.com/tensorflow/addons\n",
            "  * https://github.com/tensorflow/io (for I/O related ops)\n",
            "If you depend on functionality not listed there, please file an issue.\n",
            "\n",
            "WARNING:tensorflow:From <ipython-input-21-793539fcd838>:6: softmax_cross_entropy_with_logits (from tensorflow.python.ops.nn_ops) is deprecated and will be removed in a future version.\n",
            "Instructions for updating:\n",
            "\n",
            "Future major versions of TensorFlow will allow gradients to flow\n",
            "into the labels input on backprop by default.\n",
            "\n",
            "See `tf.nn.softmax_cross_entropy_with_logits_v2`.\n",
            "\n",
            "FUNCTIONS READY\n"
          ],
          "name": "stdout"
        }
      ]
    },
    {
      "cell_type": "code",
      "metadata": {
        "id": "mWZbQwTT_KpI",
        "colab_type": "code",
        "outputId": "8eeb66db-a8bd-425c-8bfb-5ab793a93393",
        "colab": {
          "base_uri": "https://localhost:8080/",
          "height": 880
        }
      },
      "source": [
        "# Parameters\n",
        "training_epochs = 100\n",
        "batch_size      = 3\n",
        "display_step    = 1\n",
        "\n",
        "# Launch the graph\n",
        "sess = tf.Session()\n",
        "sess.run(tf.global_variables_initializer())\n",
        "\n",
        "# Training cycle\n",
        "for epoch in range(training_epochs):\n",
        "    avg_cost = 0.\n",
        "    num_batch = int(ntrain/batch_size)+1\n",
        "    # Loop over all batches\n",
        "    for i in range(num_batch): \n",
        "        randidx = np.random.randint(ntrain, size=batch_size)\n",
        "        batch_xs = trainimg[randidx, :]\n",
        "        batch_ys = trainlabel[randidx, :]                \n",
        "        # Fit training using batch data\n",
        "        sess.run(optm, feed_dict={x: batch_xs, y: batch_ys\n",
        "                                  })\n",
        "        # Compute average loss\n",
        "        avg_cost += sess.run(cost, feed_dict={x: batch_xs, y: batch_ys\n",
        "                                })/num_batch\n",
        "\n",
        "    # Display logs per epoch step\n",
        "    if epoch % display_step == 0 or epoch == training_epochs-1:\n",
        "        print (\"Epoch: %03d/%03d cost: %.9f\" % \n",
        "               (epoch, training_epochs, avg_cost))\n",
        "        train_acc = sess.run(accr, feed_dict={x: batch_xs\n",
        "                                , y: batch_ys})\n",
        "        print (\" Training accuracy: %.3f\" % (train_acc))\n",
        "        test_acc = sess.run(accr, feed_dict={x: testimg\n",
        "                                , y: testlabel})\n",
        "        print (\" Test accuracy: %.3f\" % (test_acc))\n",
        "print (\"Optimization Finished!\")"
      ],
      "execution_count": 0,
      "outputs": [
        {
          "output_type": "stream",
          "text": [
            "Epoch: 000/100 cost: 4.071836535\n",
            " Training accuracy: 0.000\n",
            " Test accuracy: 0.042\n",
            "Epoch: 001/100 cost: 3.948389979\n",
            " Training accuracy: 0.000\n",
            " Test accuracy: 0.030\n",
            "Epoch: 002/100 cost: 3.875622574\n",
            " Training accuracy: 0.000\n",
            " Test accuracy: 0.049\n",
            "Epoch: 003/100 cost: 3.850402835\n",
            " Training accuracy: 0.000\n",
            " Test accuracy: 0.043\n",
            "Epoch: 004/100 cost: 3.773463709\n",
            " Training accuracy: 0.000\n",
            " Test accuracy: 0.030\n",
            "Epoch: 005/100 cost: 3.724049176\n",
            " Training accuracy: 0.000\n",
            " Test accuracy: 0.033\n",
            "Epoch: 006/100 cost: 3.680573809\n",
            " Training accuracy: 0.333\n",
            " Test accuracy: 0.049\n",
            "Epoch: 007/100 cost: 3.666787054\n",
            " Training accuracy: 0.000\n",
            " Test accuracy: 0.049\n",
            "Epoch: 008/100 cost: 3.647129200\n",
            " Training accuracy: 0.333\n",
            " Test accuracy: 0.043\n"
          ],
          "name": "stdout"
        },
        {
          "output_type": "error",
          "ename": "KeyboardInterrupt",
          "evalue": "ignored",
          "traceback": [
            "\u001b[0;31m---------------------------------------------------------------------------\u001b[0m",
            "\u001b[0;31mKeyboardInterrupt\u001b[0m                         Traceback (most recent call last)",
            "\u001b[0;32m<ipython-input-23-32226d8aea0a>\u001b[0m in \u001b[0;36m<module>\u001b[0;34m()\u001b[0m\n\u001b[1;32m     17\u001b[0m         \u001b[0mbatch_ys\u001b[0m \u001b[0;34m=\u001b[0m \u001b[0mtrainlabel\u001b[0m\u001b[0;34m[\u001b[0m\u001b[0mrandidx\u001b[0m\u001b[0;34m,\u001b[0m \u001b[0;34m:\u001b[0m\u001b[0;34m]\u001b[0m\u001b[0;34m\u001b[0m\u001b[0;34m\u001b[0m\u001b[0m\n\u001b[1;32m     18\u001b[0m         \u001b[0;31m# Fit training using batch data\u001b[0m\u001b[0;34m\u001b[0m\u001b[0;34m\u001b[0m\u001b[0;34m\u001b[0m\u001b[0m\n\u001b[0;32m---> 19\u001b[0;31m         sess.run(optm, feed_dict={x: batch_xs, y: batch_ys\n\u001b[0m\u001b[1;32m     20\u001b[0m                                   })\n\u001b[1;32m     21\u001b[0m         \u001b[0;31m# Compute average loss\u001b[0m\u001b[0;34m\u001b[0m\u001b[0;34m\u001b[0m\u001b[0;34m\u001b[0m\u001b[0m\n",
            "\u001b[0;32m/usr/local/lib/python3.6/dist-packages/tensorflow_core/python/client/session.py\u001b[0m in \u001b[0;36mrun\u001b[0;34m(self, fetches, feed_dict, options, run_metadata)\u001b[0m\n\u001b[1;32m    954\u001b[0m     \u001b[0;32mtry\u001b[0m\u001b[0;34m:\u001b[0m\u001b[0;34m\u001b[0m\u001b[0;34m\u001b[0m\u001b[0m\n\u001b[1;32m    955\u001b[0m       result = self._run(None, fetches, feed_dict, options_ptr,\n\u001b[0;32m--> 956\u001b[0;31m                          run_metadata_ptr)\n\u001b[0m\u001b[1;32m    957\u001b[0m       \u001b[0;32mif\u001b[0m \u001b[0mrun_metadata\u001b[0m\u001b[0;34m:\u001b[0m\u001b[0;34m\u001b[0m\u001b[0;34m\u001b[0m\u001b[0m\n\u001b[1;32m    958\u001b[0m         \u001b[0mproto_data\u001b[0m \u001b[0;34m=\u001b[0m \u001b[0mtf_session\u001b[0m\u001b[0;34m.\u001b[0m\u001b[0mTF_GetBuffer\u001b[0m\u001b[0;34m(\u001b[0m\u001b[0mrun_metadata_ptr\u001b[0m\u001b[0;34m)\u001b[0m\u001b[0;34m\u001b[0m\u001b[0;34m\u001b[0m\u001b[0m\n",
            "\u001b[0;32m/usr/local/lib/python3.6/dist-packages/tensorflow_core/python/client/session.py\u001b[0m in \u001b[0;36m_run\u001b[0;34m(self, handle, fetches, feed_dict, options, run_metadata)\u001b[0m\n\u001b[1;32m   1178\u001b[0m     \u001b[0;32mif\u001b[0m \u001b[0mfinal_fetches\u001b[0m \u001b[0;32mor\u001b[0m \u001b[0mfinal_targets\u001b[0m \u001b[0;32mor\u001b[0m \u001b[0;34m(\u001b[0m\u001b[0mhandle\u001b[0m \u001b[0;32mand\u001b[0m \u001b[0mfeed_dict_tensor\u001b[0m\u001b[0;34m)\u001b[0m\u001b[0;34m:\u001b[0m\u001b[0;34m\u001b[0m\u001b[0;34m\u001b[0m\u001b[0m\n\u001b[1;32m   1179\u001b[0m       results = self._do_run(handle, final_targets, final_fetches,\n\u001b[0;32m-> 1180\u001b[0;31m                              feed_dict_tensor, options, run_metadata)\n\u001b[0m\u001b[1;32m   1181\u001b[0m     \u001b[0;32melse\u001b[0m\u001b[0;34m:\u001b[0m\u001b[0;34m\u001b[0m\u001b[0;34m\u001b[0m\u001b[0m\n\u001b[1;32m   1182\u001b[0m       \u001b[0mresults\u001b[0m \u001b[0;34m=\u001b[0m \u001b[0;34m[\u001b[0m\u001b[0;34m]\u001b[0m\u001b[0;34m\u001b[0m\u001b[0;34m\u001b[0m\u001b[0m\n",
            "\u001b[0;32m/usr/local/lib/python3.6/dist-packages/tensorflow_core/python/client/session.py\u001b[0m in \u001b[0;36m_do_run\u001b[0;34m(self, handle, target_list, fetch_list, feed_dict, options, run_metadata)\u001b[0m\n\u001b[1;32m   1357\u001b[0m     \u001b[0;32mif\u001b[0m \u001b[0mhandle\u001b[0m \u001b[0;32mis\u001b[0m \u001b[0;32mNone\u001b[0m\u001b[0;34m:\u001b[0m\u001b[0;34m\u001b[0m\u001b[0;34m\u001b[0m\u001b[0m\n\u001b[1;32m   1358\u001b[0m       return self._do_call(_run_fn, feeds, fetches, targets, options,\n\u001b[0;32m-> 1359\u001b[0;31m                            run_metadata)\n\u001b[0m\u001b[1;32m   1360\u001b[0m     \u001b[0;32melse\u001b[0m\u001b[0;34m:\u001b[0m\u001b[0;34m\u001b[0m\u001b[0;34m\u001b[0m\u001b[0m\n\u001b[1;32m   1361\u001b[0m       \u001b[0;32mreturn\u001b[0m \u001b[0mself\u001b[0m\u001b[0;34m.\u001b[0m\u001b[0m_do_call\u001b[0m\u001b[0;34m(\u001b[0m\u001b[0m_prun_fn\u001b[0m\u001b[0;34m,\u001b[0m \u001b[0mhandle\u001b[0m\u001b[0;34m,\u001b[0m \u001b[0mfeeds\u001b[0m\u001b[0;34m,\u001b[0m \u001b[0mfetches\u001b[0m\u001b[0;34m)\u001b[0m\u001b[0;34m\u001b[0m\u001b[0;34m\u001b[0m\u001b[0m\n",
            "\u001b[0;32m/usr/local/lib/python3.6/dist-packages/tensorflow_core/python/client/session.py\u001b[0m in \u001b[0;36m_do_call\u001b[0;34m(self, fn, *args)\u001b[0m\n\u001b[1;32m   1363\u001b[0m   \u001b[0;32mdef\u001b[0m \u001b[0m_do_call\u001b[0m\u001b[0;34m(\u001b[0m\u001b[0mself\u001b[0m\u001b[0;34m,\u001b[0m \u001b[0mfn\u001b[0m\u001b[0;34m,\u001b[0m \u001b[0;34m*\u001b[0m\u001b[0margs\u001b[0m\u001b[0;34m)\u001b[0m\u001b[0;34m:\u001b[0m\u001b[0;34m\u001b[0m\u001b[0;34m\u001b[0m\u001b[0m\n\u001b[1;32m   1364\u001b[0m     \u001b[0;32mtry\u001b[0m\u001b[0;34m:\u001b[0m\u001b[0;34m\u001b[0m\u001b[0;34m\u001b[0m\u001b[0m\n\u001b[0;32m-> 1365\u001b[0;31m       \u001b[0;32mreturn\u001b[0m \u001b[0mfn\u001b[0m\u001b[0;34m(\u001b[0m\u001b[0;34m*\u001b[0m\u001b[0margs\u001b[0m\u001b[0;34m)\u001b[0m\u001b[0;34m\u001b[0m\u001b[0;34m\u001b[0m\u001b[0m\n\u001b[0m\u001b[1;32m   1366\u001b[0m     \u001b[0;32mexcept\u001b[0m \u001b[0merrors\u001b[0m\u001b[0;34m.\u001b[0m\u001b[0mOpError\u001b[0m \u001b[0;32mas\u001b[0m \u001b[0me\u001b[0m\u001b[0;34m:\u001b[0m\u001b[0;34m\u001b[0m\u001b[0;34m\u001b[0m\u001b[0m\n\u001b[1;32m   1367\u001b[0m       \u001b[0mmessage\u001b[0m \u001b[0;34m=\u001b[0m \u001b[0mcompat\u001b[0m\u001b[0;34m.\u001b[0m\u001b[0mas_text\u001b[0m\u001b[0;34m(\u001b[0m\u001b[0me\u001b[0m\u001b[0;34m.\u001b[0m\u001b[0mmessage\u001b[0m\u001b[0;34m)\u001b[0m\u001b[0;34m\u001b[0m\u001b[0;34m\u001b[0m\u001b[0m\n",
            "\u001b[0;32m/usr/local/lib/python3.6/dist-packages/tensorflow_core/python/client/session.py\u001b[0m in \u001b[0;36m_run_fn\u001b[0;34m(feed_dict, fetch_list, target_list, options, run_metadata)\u001b[0m\n\u001b[1;32m   1348\u001b[0m       \u001b[0mself\u001b[0m\u001b[0;34m.\u001b[0m\u001b[0m_extend_graph\u001b[0m\u001b[0;34m(\u001b[0m\u001b[0;34m)\u001b[0m\u001b[0;34m\u001b[0m\u001b[0;34m\u001b[0m\u001b[0m\n\u001b[1;32m   1349\u001b[0m       return self._call_tf_sessionrun(options, feed_dict, fetch_list,\n\u001b[0;32m-> 1350\u001b[0;31m                                       target_list, run_metadata)\n\u001b[0m\u001b[1;32m   1351\u001b[0m \u001b[0;34m\u001b[0m\u001b[0m\n\u001b[1;32m   1352\u001b[0m     \u001b[0;32mdef\u001b[0m \u001b[0m_prun_fn\u001b[0m\u001b[0;34m(\u001b[0m\u001b[0mhandle\u001b[0m\u001b[0;34m,\u001b[0m \u001b[0mfeed_dict\u001b[0m\u001b[0;34m,\u001b[0m \u001b[0mfetch_list\u001b[0m\u001b[0;34m)\u001b[0m\u001b[0;34m:\u001b[0m\u001b[0;34m\u001b[0m\u001b[0;34m\u001b[0m\u001b[0m\n",
            "\u001b[0;32m/usr/local/lib/python3.6/dist-packages/tensorflow_core/python/client/session.py\u001b[0m in \u001b[0;36m_call_tf_sessionrun\u001b[0;34m(self, options, feed_dict, fetch_list, target_list, run_metadata)\u001b[0m\n\u001b[1;32m   1441\u001b[0m     return tf_session.TF_SessionRun_wrapper(self._session, options, feed_dict,\n\u001b[1;32m   1442\u001b[0m                                             \u001b[0mfetch_list\u001b[0m\u001b[0;34m,\u001b[0m \u001b[0mtarget_list\u001b[0m\u001b[0;34m,\u001b[0m\u001b[0;34m\u001b[0m\u001b[0;34m\u001b[0m\u001b[0m\n\u001b[0;32m-> 1443\u001b[0;31m                                             run_metadata)\n\u001b[0m\u001b[1;32m   1444\u001b[0m \u001b[0;34m\u001b[0m\u001b[0m\n\u001b[1;32m   1445\u001b[0m   \u001b[0;32mdef\u001b[0m \u001b[0m_call_tf_sessionprun\u001b[0m\u001b[0;34m(\u001b[0m\u001b[0mself\u001b[0m\u001b[0;34m,\u001b[0m \u001b[0mhandle\u001b[0m\u001b[0;34m,\u001b[0m \u001b[0mfeed_dict\u001b[0m\u001b[0;34m,\u001b[0m \u001b[0mfetch_list\u001b[0m\u001b[0;34m)\u001b[0m\u001b[0;34m:\u001b[0m\u001b[0;34m\u001b[0m\u001b[0;34m\u001b[0m\u001b[0m\n",
            "\u001b[0;31mKeyboardInterrupt\u001b[0m: "
          ]
        }
      ]
    },
    {
      "cell_type": "code",
      "metadata": {
        "id": "VnqGCKZ4_Ktd",
        "colab_type": "code",
        "colab": {}
      },
      "source": [
        "sess.close()\n",
        "print (\"Session closed.\")"
      ],
      "execution_count": 0,
      "outputs": []
    }
  ]
}